{
  "metadata": {
    "kernelspec": {
      "display_name": "Python 3",
      "language": "python",
      "name": "python3"
    },
    "language_info": {
      "mimetype": "text/x-python",
      "version": "3.5.4",
      "name": "python",
      "nbconvert_exporter": "python",
      "file_extension": ".py",
      "codemirror_mode": {
        "version": 3,
        "name": "ipython"
      },
      "pygments_lexer": "ipython3"
    }
  },
  "nbformat": 4,
  "cells": [
    {
      "execution_count": null,
      "metadata": {
        "collapsed": false
      },
      "outputs": [],
      "source": [
        "%matplotlib inline"
      ],
      "cell_type": "code"
    },
    {
      "metadata": {},
      "source": [
        "\nUsing ``sys.argv`` in examples\n==============================\n\nNote that your example will be run by sphinx-gallery without arguments.\n\n"
      ],
      "cell_type": "markdown"
    },
    {
      "execution_count": null,
      "metadata": {
        "collapsed": false
      },
      "outputs": [],
      "source": [
        "import argparse\nimport sys\n\nparser = argparse.ArgumentParser(description='Toy parser')\nparser.add_argument('--option', default='default',\n                    help='a dummy optional argument')\nprint('sys.argv:', sys.argv)\nprint('parsed args:', parser.parse_args())"
      ],
      "cell_type": "code"
    }
  ],
  "nbformat_minor": 0
}