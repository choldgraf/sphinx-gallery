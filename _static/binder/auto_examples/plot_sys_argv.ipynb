{
  "cells": [
    {
      "cell_type": "code",
      "outputs": [],
      "metadata": {
        "collapsed": false
      },
      "source": [
        "%matplotlib inline"
      ],
      "execution_count": null
    },
    {
      "cell_type": "markdown",
      "metadata": {},
      "source": [
        "\nUsing ``sys.argv`` in examples\n==============================\n\nNote that your example will be run by sphinx-gallery without arguments.\n\n"
      ]
    },
    {
      "cell_type": "code",
      "outputs": [],
      "metadata": {
        "collapsed": false
      },
      "source": [
        "import argparse\nimport sys\n\nparser = argparse.ArgumentParser(description='Toy parser')\nparser.add_argument('--option', default='default',\n                    help='a dummy optional argument')\nprint('sys.argv:', sys.argv)\nprint('parsed args:', parser.parse_args())"
      ],
      "execution_count": null
    }
  ],
  "metadata": {
    "language_info": {
      "codemirror_mode": {
        "version": 3,
        "name": "ipython"
      },
      "name": "python",
      "mimetype": "text/x-python",
      "nbconvert_exporter": "python",
      "pygments_lexer": "ipython3",
      "version": "3.5.4",
      "file_extension": ".py"
    },
    "kernelspec": {
      "display_name": "Python 3",
      "language": "python",
      "name": "python3"
    }
  },
  "nbformat": 4,
  "nbformat_minor": 0
}