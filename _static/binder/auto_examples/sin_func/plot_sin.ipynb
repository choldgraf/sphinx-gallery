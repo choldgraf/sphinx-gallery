{
  "cells": [
    {
      "cell_type": "code",
      "outputs": [],
      "metadata": {
        "collapsed": false
      },
      "source": [
        "%matplotlib inline"
      ],
      "execution_count": null
    },
    {
      "cell_type": "markdown",
      "metadata": {},
      "source": [
        "\nPlotting simple sin function\n============================\n\nA simple example of the plot of a sin function\nin order to test the autonomy of the gallery.\n\nTo illustrate how to insert maths in example descriptions,\nit corresponds mathematically to the function:\n\n\\begin{align}x \\rightarrow \\sin(x)\\end{align}\n\nHere the function $\\sin$ is evaluated at each point the variable\n$x$ is defined.\n\nNote that ``sphinx-gallery`` automatically creates labels for each example from\nits filename. You can thus refer to it from any part of the documentation,\nincluding from other examples, as here\n\n.. seealso::\n    `sphx_glr_auto_examples_sin_func_plot_sin_black_background.py` for a\n    fancier plot\n\n"
      ]
    },
    {
      "cell_type": "code",
      "outputs": [],
      "metadata": {
        "collapsed": false
      },
      "source": [
        "# Code source: \u00d3scar N\u00e1jera\n# License: BSD 3 clause\n\nimport numpy as np\nimport matplotlib.pyplot as plt\n\nx = np.linspace(0, 2 * np.pi, 100)\ny = np.sin(x)\n\nplt.plot(x, y)\nplt.xlabel('$x$')\nplt.ylabel('$\\sin(x)$')\nplt.show()"
      ],
      "execution_count": null
    }
  ],
  "metadata": {
    "language_info": {
      "codemirror_mode": {
        "version": 3,
        "name": "ipython"
      },
      "name": "python",
      "mimetype": "text/x-python",
      "nbconvert_exporter": "python",
      "pygments_lexer": "ipython3",
      "version": "3.5.4",
      "file_extension": ".py"
    },
    "kernelspec": {
      "display_name": "Python 3",
      "language": "python",
      "name": "python3"
    }
  },
  "nbformat": 4,
  "nbformat_minor": 0
}