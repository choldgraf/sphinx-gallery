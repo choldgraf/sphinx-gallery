{
  "metadata": {
    "kernelspec": {
      "display_name": "Python 3",
      "language": "python",
      "name": "python3"
    },
    "language_info": {
      "mimetype": "text/x-python",
      "version": "3.5.4",
      "name": "python",
      "nbconvert_exporter": "python",
      "file_extension": ".py",
      "codemirror_mode": {
        "version": 3,
        "name": "ipython"
      },
      "pygments_lexer": "ipython3"
    }
  },
  "nbformat": 4,
  "cells": [
    {
      "execution_count": null,
      "metadata": {
        "collapsed": false
      },
      "outputs": [],
      "source": [
        "%matplotlib inline"
      ],
      "cell_type": "code"
    },
    {
      "metadata": {},
      "source": [
        "\nPlotting simple sin function on a black background\n==================================================\n\nA simple example of the plot of a sin function on a black background\n\n\n"
      ],
      "cell_type": "markdown"
    },
    {
      "execution_count": null,
      "metadata": {
        "collapsed": false
      },
      "outputs": [],
      "source": [
        "# Code source: Lo\u00efc Est\u00e8ve\n# License: BSD 3 clause\n\nimport numpy as np\nimport matplotlib.pyplot as plt\n\nbg_color = 'black'\nfg_color = 'white'\n\nfig = plt.figure(facecolor=bg_color, edgecolor=fg_color)\naxes = fig.add_subplot(111)\naxes.patch.set_facecolor(bg_color)\naxes.xaxis.set_tick_params(color=fg_color, labelcolor=fg_color)\naxes.yaxis.set_tick_params(color=fg_color, labelcolor=fg_color)\nfor spine in axes.spines.values():\n    spine.set_color(fg_color)\n\nx = np.linspace(0, 2 * np.pi, 100)\ny = np.sin(x)\n\nplt.plot(x, y, 'cyan', axes=axes)\nplt.xlabel('$x$', color=fg_color)\nplt.ylabel('$\\sin(x)$', color=fg_color)\nplt.show()"
      ],
      "cell_type": "code"
    }
  ],
  "nbformat_minor": 0
}