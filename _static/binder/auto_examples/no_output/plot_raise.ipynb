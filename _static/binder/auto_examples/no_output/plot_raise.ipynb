{
  "nbformat_minor": 0,
  "nbformat": 4,
  "cells": [
    {
      "source": [
        "%matplotlib inline"
      ],
      "cell_type": "code",
      "execution_count": null,
      "metadata": {
        "collapsed": false
      },
      "outputs": []
    },
    {
      "source": [
        "\nExample that fails to execute\n=============================\n\nWhen scripts fail their gallery thumbnail is replaced with the broken\nimage stamp. Thus allowing easy identification in the gallery display.\n\nYou also get the python traceback of the failed code block\n\n"
      ],
      "cell_type": "markdown",
      "metadata": {}
    },
    {
      "source": [
        "# Code source: \u00d3scar N\u00e1jera\n# License: BSD 3 clause\n# sphinx_gallery_line_numbers = True\n\nimport numpy as np\nimport matplotlib.pyplot as plt\n\nplt.pcolormesh(np.random.randn(100, 100))"
      ],
      "cell_type": "code",
      "execution_count": null,
      "metadata": {
        "collapsed": false
      },
      "outputs": []
    },
    {
      "source": [
        "This next block will raise a NameError\n\n"
      ],
      "cell_type": "markdown",
      "metadata": {}
    },
    {
      "source": [
        "iae"
      ],
      "cell_type": "code",
      "execution_count": null,
      "metadata": {
        "collapsed": false
      },
      "outputs": []
    },
    {
      "source": [
        "Sphinx gallery will stop executing the remaining code blocks after\nthe exception has occurred in the example script. Nevertheless the\nhtml will still render all the example annotated text and\ncode blocks, but no output will be shown.\n\n"
      ],
      "cell_type": "markdown",
      "metadata": {}
    },
    {
      "source": [
        "Here is another error raising block but will not be executed\n\n"
      ],
      "cell_type": "markdown",
      "metadata": {}
    },
    {
      "source": [
        "plt.plot('Strings are not a valid argument for the plot function')"
      ],
      "cell_type": "code",
      "execution_count": null,
      "metadata": {
        "collapsed": false
      },
      "outputs": []
    }
  ],
  "metadata": {
    "kernelspec": {
      "display_name": "Python 3",
      "name": "python3",
      "language": "python"
    },
    "language_info": {
      "codemirror_mode": {
        "version": 3,
        "name": "ipython"
      },
      "version": "3.5.4",
      "file_extension": ".py",
      "nbconvert_exporter": "python",
      "pygments_lexer": "ipython3",
      "mimetype": "text/x-python",
      "name": "python"
    }
  }
}