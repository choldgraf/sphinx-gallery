{
  "cells": [
    {
      "cell_type": "code",
      "outputs": [],
      "metadata": {
        "collapsed": false
      },
      "source": [
        "%matplotlib inline"
      ],
      "execution_count": null
    },
    {
      "cell_type": "markdown",
      "metadata": {},
      "source": [
        "\nIdentifying function names in a script\n======================================\n\nCalls Sphinx-Gallery identify names function to figure out which\nfunctions are called in the script and to which module do they belong.\n\n"
      ]
    },
    {
      "cell_type": "code",
      "outputs": [],
      "metadata": {
        "collapsed": false
      },
      "source": [
        "# Code source: \u00d3scar N\u00e1jera\n# License: BSD 3 clause\n\nimport matplotlib.pyplot as plt\nimport sphinx_gallery.backreferences as spback\n\n\nfilename = spback.__file__.replace('.pyc', '.py')\nnames = spback.identify_names(filename)\nfigheight = len(names) + .5\n\nfontsize = 22\nfig = plt.figure()\n\nfor i, (name, obj) in enumerate(names.items()):\n    fig.text(0.3, (float(len(names)) - 0.5 - i) / figheight,\n             name,\n             ha=\"right\",\n             size=fontsize,\n             transform=fig.transFigure,\n             bbox=dict(boxstyle='square', fc=\"w\", ec=\"k\"))\n    fig.text(0.35, (float(len(names)) - 0.5 - i) / figheight,\n             obj[\"module\"],\n             ha=\"left\",\n             size=fontsize,\n             transform=fig.transFigure,\n             bbox=dict(boxstyle='larrow', fc=\"w\", ec=\"k\"))\n#\nplt.draw()\nplt.show()"
      ],
      "execution_count": null
    }
  ],
  "metadata": {
    "language_info": {
      "codemirror_mode": {
        "version": 3,
        "name": "ipython"
      },
      "name": "python",
      "mimetype": "text/x-python",
      "nbconvert_exporter": "python",
      "pygments_lexer": "ipython3",
      "version": "3.5.4",
      "file_extension": ".py"
    },
    "kernelspec": {
      "display_name": "Python 3",
      "language": "python",
      "name": "python3"
    }
  },
  "nbformat": 4,
  "nbformat_minor": 0
}