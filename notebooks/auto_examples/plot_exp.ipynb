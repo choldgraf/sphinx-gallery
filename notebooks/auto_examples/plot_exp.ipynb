{
  "nbformat": 4,
  "metadata": {
    "kernelspec": {
      "language": "python",
      "display_name": "Python 3",
      "name": "python3"
    },
    "language_info": {
      "nbconvert_exporter": "python",
      "version": "3.5.4",
      "pygments_lexer": "ipython3",
      "file_extension": ".py",
      "mimetype": "text/x-python",
      "codemirror_mode": {
        "version": 3,
        "name": "ipython"
      },
      "name": "python"
    }
  },
  "cells": [
    {
      "source": [
        "%matplotlib inline"
      ],
      "metadata": {
        "collapsed": false
      },
      "execution_count": null,
      "outputs": [],
      "cell_type": "code"
    },
    {
      "source": [
        "\nPlotting the exponential function\n=================================\n\nA simple example for ploting two figures of a exponential\nfunction in order to test the autonomy of the gallery\nstacking multiple images.\n\n"
      ],
      "metadata": {},
      "cell_type": "markdown"
    },
    {
      "source": [
        "# Code source: \u00d3scar N\u00e1jera\n# License: BSD 3 clause\n\nimport numpy as np\nimport matplotlib.pyplot as plt\n\n\ndef main():\n    x = np.linspace(-1, 2, 100)\n    y = np.exp(x)\n\n    plt.figure()\n    plt.plot(x, y)\n    plt.xlabel('$x$')\n    plt.ylabel('$\\exp(x)$')\n\n    plt.figure()\n    plt.plot(x, -np.exp(-x))\n    plt.xlabel('$x$')\n    plt.ylabel('$-\\exp(-x)$')\n\n    plt.show()\n\nif __name__ == '__main__':\n    main()"
      ],
      "metadata": {
        "collapsed": false
      },
      "execution_count": null,
      "outputs": [],
      "cell_type": "code"
    }
  ],
  "nbformat_minor": 0
}