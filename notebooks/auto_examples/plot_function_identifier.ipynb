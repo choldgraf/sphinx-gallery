{
  "nbformat": 4,
  "nbformat_minor": 0,
  "metadata": {
    "kernelspec": {
      "language": "python",
      "display_name": "Python 3",
      "name": "python3"
    },
    "language_info": {
      "mimetype": "text/x-python",
      "version": "3.5.4",
      "file_extension": ".py",
      "codemirror_mode": {
        "version": 3,
        "name": "ipython"
      },
      "pygments_lexer": "ipython3",
      "name": "python",
      "nbconvert_exporter": "python"
    }
  },
  "cells": [
    {
      "source": [
        "%matplotlib inline"
      ],
      "metadata": {
        "collapsed": false
      },
      "cell_type": "code",
      "outputs": [],
      "execution_count": null
    },
    {
      "metadata": {},
      "cell_type": "markdown",
      "source": [
        "\nIdentifying function names in a script\n======================================\n\nCalls Sphinx-Gallery identify names function to figure out which\nfunctions are called in the script and to which module do they belong.\n\n"
      ]
    },
    {
      "source": [
        "# Code source: \u00d3scar N\u00e1jera\n# License: BSD 3 clause\n\nimport matplotlib.pyplot as plt\nimport sphinx_gallery.backreferences as spback\n\n\nfilename = spback.__file__.replace('.pyc', '.py')\nnames = spback.identify_names(filename)\nfigheight = len(names) + .5\n\nfontsize = 22\nfig = plt.figure()\n\nfor i, (name, obj) in enumerate(names.items()):\n    fig.text(0.3, (float(len(names)) - 0.5 - i) / figheight,\n             name,\n             ha=\"right\",\n             size=fontsize,\n             transform=fig.transFigure,\n             bbox=dict(boxstyle='square', fc=\"w\", ec=\"k\"))\n    fig.text(0.35, (float(len(names)) - 0.5 - i) / figheight,\n             obj[\"module\"],\n             ha=\"left\",\n             size=fontsize,\n             transform=fig.transFigure,\n             bbox=dict(boxstyle='larrow', fc=\"w\", ec=\"k\"))\n#\nplt.draw()\nplt.show()"
      ],
      "metadata": {
        "collapsed": false
      },
      "cell_type": "code",
      "outputs": [],
      "execution_count": null
    }
  ]
}