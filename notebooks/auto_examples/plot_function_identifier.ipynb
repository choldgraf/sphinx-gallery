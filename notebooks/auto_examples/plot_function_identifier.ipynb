{
  "nbformat": 4,
  "metadata": {
    "kernelspec": {
      "language": "python",
      "display_name": "Python 3",
      "name": "python3"
    },
    "language_info": {
      "nbconvert_exporter": "python",
      "version": "3.5.4",
      "pygments_lexer": "ipython3",
      "file_extension": ".py",
      "mimetype": "text/x-python",
      "codemirror_mode": {
        "version": 3,
        "name": "ipython"
      },
      "name": "python"
    }
  },
  "cells": [
    {
      "source": [
        "%matplotlib inline"
      ],
      "metadata": {
        "collapsed": false
      },
      "execution_count": null,
      "outputs": [],
      "cell_type": "code"
    },
    {
      "source": [
        "\nIdentifying function names in a script\n======================================\n\nCalls Sphinx-Gallery identify names function to figure out which\nfunctions are called in the script and to which module do they belong.\n\n"
      ],
      "metadata": {},
      "cell_type": "markdown"
    },
    {
      "source": [
        "# Code source: \u00d3scar N\u00e1jera\n# License: BSD 3 clause\n\nimport matplotlib.pyplot as plt\nimport sphinx_gallery.backreferences as spback\n\n\nfilename = spback.__file__.replace('.pyc', '.py')\nnames = spback.identify_names(filename)\nfigheight = len(names) + .5\n\nfontsize = 22\nfig = plt.figure()\n\nfor i, (name, obj) in enumerate(names.items()):\n    fig.text(0.3, (float(len(names)) - 0.5 - i) / figheight,\n             name,\n             ha=\"right\",\n             size=fontsize,\n             transform=fig.transFigure,\n             bbox=dict(boxstyle='square', fc=\"w\", ec=\"k\"))\n    fig.text(0.35, (float(len(names)) - 0.5 - i) / figheight,\n             obj[\"module\"],\n             ha=\"left\",\n             size=fontsize,\n             transform=fig.transFigure,\n             bbox=dict(boxstyle='larrow', fc=\"w\", ec=\"k\"))\n#\nplt.draw()\nplt.show()"
      ],
      "metadata": {
        "collapsed": false
      },
      "execution_count": null,
      "outputs": [],
      "cell_type": "code"
    }
  ],
  "nbformat_minor": 0
}