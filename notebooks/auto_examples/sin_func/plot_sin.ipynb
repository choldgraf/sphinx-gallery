{
  "nbformat": 4,
  "metadata": {
    "kernelspec": {
      "language": "python",
      "display_name": "Python 3",
      "name": "python3"
    },
    "language_info": {
      "nbconvert_exporter": "python",
      "version": "3.5.4",
      "pygments_lexer": "ipython3",
      "file_extension": ".py",
      "mimetype": "text/x-python",
      "codemirror_mode": {
        "version": 3,
        "name": "ipython"
      },
      "name": "python"
    }
  },
  "cells": [
    {
      "source": [
        "%matplotlib inline"
      ],
      "metadata": {
        "collapsed": false
      },
      "execution_count": null,
      "outputs": [],
      "cell_type": "code"
    },
    {
      "source": [
        "\nPlotting simple sin function\n============================\n\nA simple example of the plot of a sin function\nin order to test the autonomy of the gallery.\n\nTo illustrate how to insert maths in example descriptions,\nit corresponds mathematically to the function:\n\n\\begin{align}x \\rightarrow \\sin(x)\\end{align}\n\nHere the function $\\sin$ is evaluated at each point the variable\n$x$ is defined.\n\nNote that ``sphinx-gallery`` automatically creates labels for each example from\nits filename. You can thus refer to it from any part of the documentation,\nincluding from other examples, as here\n\n.. seealso::\n    `sphx_glr_auto_examples_sin_func_plot_sin_black_background.py` for a\n    fancier plot\n\n"
      ],
      "metadata": {},
      "cell_type": "markdown"
    },
    {
      "source": [
        "# Code source: \u00d3scar N\u00e1jera\n# License: BSD 3 clause\n\nimport numpy as np\nimport matplotlib.pyplot as plt\n\nx = np.linspace(0, 2 * np.pi, 100)\ny = np.sin(x)\n\nplt.plot(x, y)\nplt.xlabel('$x$')\nplt.ylabel('$\\sin(x)$')\nplt.show()"
      ],
      "metadata": {
        "collapsed": false
      },
      "execution_count": null,
      "outputs": [],
      "cell_type": "code"
    }
  ],
  "nbformat_minor": 0
}