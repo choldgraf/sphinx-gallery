{
  "metadata": {
    "language_info": {
      "file_extension": ".py",
      "name": "python",
      "mimetype": "text/x-python",
      "version": "3.5.4",
      "pygments_lexer": "ipython3",
      "codemirror_mode": {
        "version": 3,
        "name": "ipython"
      },
      "nbconvert_exporter": "python"
    },
    "kernelspec": {
      "name": "python3",
      "display_name": "Python 3",
      "language": "python"
    }
  },
  "nbformat_minor": 0,
  "cells": [
    {
      "metadata": {
        "collapsed": false
      },
      "outputs": [],
      "cell_type": "code",
      "execution_count": null,
      "source": [
        "%matplotlib inline"
      ]
    },
    {
      "metadata": {},
      "cell_type": "markdown",
      "source": [
        "\nSyntaxError\n===========\n\nExample script with invalid Python syntax\n\n"
      ]
    },
    {
      "metadata": {
        "collapsed": false
      },
      "outputs": [],
      "cell_type": "code",
      "execution_count": null,
      "source": [
        "# -*- coding: utf-8 -*-\n\"\"\"\nExample with SyntaxError\n========================\n\nSphinx-Gallery uses Python's AST parser, thus you need to have written\nvalid python code for Sphinx-Gallery to parse it. If your script has a\nSyntaxError you'll be presented the traceback and the original code.\n\n\"\"\"\n# Code source: \u00d3scar N\u00e1jera\n# License: BSD 3 clause\n\nInvalid Python code"
      ]
    }
  ],
  "nbformat": 4
}