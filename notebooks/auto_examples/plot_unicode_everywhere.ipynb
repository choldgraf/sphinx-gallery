{
  "nbformat": 4,
  "nbformat_minor": 0,
  "metadata": {
    "kernelspec": {
      "language": "python",
      "display_name": "Python 3",
      "name": "python3"
    },
    "language_info": {
      "mimetype": "text/x-python",
      "version": "3.5.4",
      "file_extension": ".py",
      "codemirror_mode": {
        "version": 3,
        "name": "ipython"
      },
      "pygments_lexer": "ipython3",
      "name": "python",
      "nbconvert_exporter": "python"
    }
  },
  "cells": [
    {
      "source": [
        "%matplotlib inline"
      ],
      "metadata": {
        "collapsed": false
      },
      "cell_type": "code",
      "outputs": [],
      "execution_count": null
    },
    {
      "metadata": {},
      "cell_type": "markdown",
      "source": [
        "\nUsing Unicode everywhere \ud83e\udd17\n===========================\n\nThis examples includes unicode characters, mostly emoji \ud83c\udf89 to stress test the\nbuild and test environments that parse the example files. \n"
      ]
    },
    {
      "source": [
        "from __future__ import unicode_literals\n\n# \ud83c\udf89 \ud83d\udc4d\n# Code source: \u00d3scar N\u00e1jera\n# License: BSD 3 clause\n\nimport numpy as np\nimport matplotlib.pyplot as plt\n\nplt.rcParams['font.size'] = 20\nplt.rcParams[\"font.monospace\"] = [\"DejaVu Sans Mono\"]\nplt.rcParams[\"font.family\"] = \"monospace\"\n\nplt.figure()\nx = np.random.randn(100) * 2 + 1\ny = np.random.randn(100) * 6 + 3\ns = np.random.rand(*x.shape) * 800 + 500\nplt.scatter(x, y, s, marker=r'$\\oint$')\nx = np.random.randn(60) * 7 - 4\ny = np.random.randn(60) * 3 - 2\nplt.scatter(x, y, s, alpha=0.5, c='g', marker=r'$\\clubsuit$')\nplt.xlabel('\u21d2')\nplt.ylabel('\u21d2')\nplt.title('\u2672' * 10)\nprint('Std out capture \ud83d\ude0e')\nplt.show()"
      ],
      "metadata": {
        "collapsed": false
      },
      "cell_type": "code",
      "outputs": [],
      "execution_count": null
    },
    {
      "metadata": {},
      "cell_type": "markdown",
      "source": [
        "Debug fonts\n\n"
      ]
    },
    {
      "source": [
        "print(plt.rcParams)"
      ],
      "metadata": {
        "collapsed": false
      },
      "cell_type": "code",
      "outputs": [],
      "execution_count": null
    }
  ]
}