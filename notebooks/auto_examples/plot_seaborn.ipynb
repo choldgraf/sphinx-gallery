{
  "nbformat": 4,
  "nbformat_minor": 0,
  "metadata": {
    "kernelspec": {
      "language": "python",
      "display_name": "Python 3",
      "name": "python3"
    },
    "language_info": {
      "mimetype": "text/x-python",
      "version": "3.5.4",
      "file_extension": ".py",
      "codemirror_mode": {
        "version": 3,
        "name": "ipython"
      },
      "pygments_lexer": "ipython3",
      "name": "python",
      "nbconvert_exporter": "python"
    }
  },
  "cells": [
    {
      "source": [
        "%matplotlib inline"
      ],
      "metadata": {
        "collapsed": false
      },
      "cell_type": "code",
      "outputs": [],
      "execution_count": null
    },
    {
      "metadata": {},
      "cell_type": "markdown",
      "source": [
        "\nSeaborn example\n===============\n\nPreview the capture of seaborn styles in plots\n\n"
      ]
    },
    {
      "source": [
        "# Author: Michael Waskom\n# License: BSD 3 clause\n\nfrom __future__ import division, absolute_import, print_function\n\n\nimport numpy as np\nimport seaborn as sns\n\n# Enforce the use of default set style\n#sns.set(style=\"darkgrid\", palette=\"Set2\")\n\n# Create a noisy periodic dataset\nsines = []\nrs = np.random.RandomState(8)\nfor _ in range(15):\n    x = np.linspace(0, 30 / 2, 30)\n    y = np.sin(x) + rs.normal(0, 1.5) + rs.normal(0, .3, 30)\n    sines.append(y)\n\n# Plot the average over replicates with bootstrap resamples\nsns.tsplot(sines, err_style=\"boot_traces\", n_boot=500)"
      ],
      "metadata": {
        "collapsed": false
      },
      "cell_type": "code",
      "outputs": [],
      "execution_count": null
    }
  ]
}