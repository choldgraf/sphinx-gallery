{
  "nbformat": 4,
  "nbformat_minor": 0,
  "metadata": {
    "kernelspec": {
      "language": "python",
      "display_name": "Python 3",
      "name": "python3"
    },
    "language_info": {
      "mimetype": "text/x-python",
      "version": "3.5.4",
      "file_extension": ".py",
      "codemirror_mode": {
        "version": 3,
        "name": "ipython"
      },
      "pygments_lexer": "ipython3",
      "name": "python",
      "nbconvert_exporter": "python"
    }
  },
  "cells": [
    {
      "source": [
        "%matplotlib inline"
      ],
      "metadata": {
        "collapsed": false
      },
      "cell_type": "code",
      "outputs": [],
      "execution_count": null
    },
    {
      "metadata": {},
      "cell_type": "markdown",
      "source": [
        "\nColormaps alter your perception\n===============================\n\nHere I plot the function\n\n\\begin{align}f(x, y) = \\sin(x) + \\cos(y)\\end{align}\n\nwith different colormaps.\n\n\n"
      ]
    },
    {
      "source": [
        "import numpy as np\nimport matplotlib.pyplot as plt\n\nx = np.linspace(-np.pi, np.pi, 300)\nxx, yy = np.meshgrid(x, x)\nz = np.cos(xx) + np.cos(yy)\n\nplt.figure()\nplt.imshow(z)\n\nplt.figure()\nplt.imshow(z, cmap=plt.cm.get_cmap('hot'))\n\nplt.figure()\nplt.imshow(z, cmap=plt.cm.get_cmap('Spectral'),\n           interpolation='none')\n\n# Not needed for the Gallery.\n# Only for direct execution\nplt.show()"
      ],
      "metadata": {
        "collapsed": false
      },
      "cell_type": "code",
      "outputs": [],
      "execution_count": null
    },
    {
      "metadata": {},
      "cell_type": "markdown",
      "source": [
        "You can define blocks in your source code\nwith interleaving prose.\n\n\n"
      ]
    },
    {
      "source": [
        "print(\"This writes to stdout and will be\",\n      \" displayed in the HTML file\")"
      ],
      "metadata": {
        "collapsed": false
      },
      "cell_type": "code",
      "outputs": [],
      "execution_count": null
    }
  ]
}