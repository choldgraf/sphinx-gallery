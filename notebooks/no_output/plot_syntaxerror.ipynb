{
  "nbformat": 4,
  "nbformat_minor": 0,
  "metadata": {
    "kernelspec": {
      "name": "python3",
      "display_name": "Python 3",
      "language": "python"
    },
    "language_info": {
      "version": "3.5.4",
      "nbconvert_exporter": "python",
      "file_extension": ".py",
      "pygments_lexer": "ipython3",
      "mimetype": "text/x-python",
      "codemirror_mode": {
        "version": 3,
        "name": "ipython"
      },
      "name": "python"
    }
  },
  "cells": [
    {
      "outputs": [],
      "source": [
        "%matplotlib inline"
      ],
      "metadata": {
        "collapsed": false
      },
      "cell_type": "code",
      "execution_count": null
    },
    {
      "metadata": {},
      "cell_type": "markdown",
      "source": [
        "\nSyntaxError\n===========\n\nExample script with invalid Python syntax\n\n"
      ]
    },
    {
      "outputs": [],
      "source": [
        "# -*- coding: utf-8 -*-\n\"\"\"\nExample with SyntaxError\n========================\n\nSphinx-Gallery uses Python's AST parser, thus you need to have written\nvalid python code for Sphinx-Gallery to parse it. If your script has a\nSyntaxError you'll be presented the traceback and the original code.\n\n\"\"\"\n# Code source: \u00d3scar N\u00e1jera\n# License: BSD 3 clause\n\nInvalid Python code"
      ],
      "metadata": {
        "collapsed": false
      },
      "cell_type": "code",
      "execution_count": null
    }
  ]
}