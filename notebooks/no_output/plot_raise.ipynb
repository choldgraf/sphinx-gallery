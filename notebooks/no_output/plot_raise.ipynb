{
  "nbformat": 4,
  "nbformat_minor": 0,
  "metadata": {
    "kernelspec": {
      "name": "python3",
      "display_name": "Python 3",
      "language": "python"
    },
    "language_info": {
      "version": "3.5.4",
      "nbconvert_exporter": "python",
      "file_extension": ".py",
      "pygments_lexer": "ipython3",
      "mimetype": "text/x-python",
      "codemirror_mode": {
        "version": 3,
        "name": "ipython"
      },
      "name": "python"
    }
  },
  "cells": [
    {
      "outputs": [],
      "source": [
        "%matplotlib inline"
      ],
      "metadata": {
        "collapsed": false
      },
      "cell_type": "code",
      "execution_count": null
    },
    {
      "metadata": {},
      "cell_type": "markdown",
      "source": [
        "\nExample that fails to execute\n=============================\n\nWhen scripts fail their gallery thumbnail is replaced with the broken\nimage stamp. Thus allowing easy identification in the gallery display.\n\nYou also get the python traceback of the failed code block\n\n"
      ]
    },
    {
      "outputs": [],
      "source": [
        "# Code source: \u00d3scar N\u00e1jera\n# License: BSD 3 clause\n# sphinx_gallery_line_numbers = True\n\nimport numpy as np\nimport matplotlib.pyplot as plt\n\nplt.pcolormesh(np.random.randn(100, 100))"
      ],
      "metadata": {
        "collapsed": false
      },
      "cell_type": "code",
      "execution_count": null
    },
    {
      "metadata": {},
      "cell_type": "markdown",
      "source": [
        "This next block will raise a NameError\n\n"
      ]
    },
    {
      "outputs": [],
      "source": [
        "iae"
      ],
      "metadata": {
        "collapsed": false
      },
      "cell_type": "code",
      "execution_count": null
    },
    {
      "metadata": {},
      "cell_type": "markdown",
      "source": [
        "Sphinx gallery will stop executing the remaining code blocks after\nthe exception has occurred in the example script. Nevertheless the\nhtml will still render all the example annotated text and\ncode blocks, but no output will be shown.\n\n"
      ]
    },
    {
      "metadata": {},
      "cell_type": "markdown",
      "source": [
        "Here is another error raising block but will not be executed\n\n"
      ]
    },
    {
      "outputs": [],
      "source": [
        "plt.plot('Strings are not a valid argument for the plot function')"
      ],
      "metadata": {
        "collapsed": false
      },
      "cell_type": "code",
      "execution_count": null
    }
  ]
}