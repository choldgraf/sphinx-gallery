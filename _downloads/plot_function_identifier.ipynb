{
  "nbformat": 4,
  "metadata": {
    "kernelspec": {
      "language": "python",
      "name": "python3",
      "display_name": "Python 3"
    },
    "language_info": {
      "version": "3.5.2",
      "codemirror_mode": {
        "version": 3,
        "name": "ipython"
      },
      "file_extension": ".py",
      "name": "python",
      "pygments_lexer": "ipython3",
      "mimetype": "text/x-python",
      "nbconvert_exporter": "python"
    }
  },
  "nbformat_minor": 0,
  "cells": [
    {
      "outputs": [],
      "source": [
        "%matplotlib inline"
      ],
      "metadata": {
        "collapsed": false
      },
      "execution_count": null,
      "cell_type": "code"
    },
    {
      "source": [
        "\nIdentifying function names in a script\n======================================\n\nCalls Sphinx-Gallery identify names function to figure out which\nfunctions are called in the script and to which module do they belong.\n\n"
      ],
      "metadata": {},
      "cell_type": "markdown"
    },
    {
      "outputs": [],
      "source": [
        "# Code source: \u00d3scar N\u00e1jera\n# License: BSD 3 clause\n\nimport matplotlib.pyplot as plt\nimport sphinx_gallery.backreferences as spback\n\n\nfilename = spback.__file__.replace('.pyc', '.py')\nfile_code = open(filename, 'r').read()\nnames = spback.identify_names(file_code)\nfigheight = len(names) + .5\n\nfontsize = 22\nfig = plt.figure()\n\nfor i, (name, obj) in enumerate(names.items()):\n    fig.text(0.3, (float(len(names)) - 0.5 - i) / figheight,\n             name,\n             ha=\"right\",\n             size=fontsize,\n             transform=fig.transFigure,\n             bbox=dict(boxstyle='square', fc=\"w\", ec=\"k\"))\n    fig.text(0.35, (float(len(names)) - 0.5 - i) / figheight,\n             obj[\"module\"],\n             ha=\"left\",\n             size=fontsize,\n             transform=fig.transFigure,\n             bbox=dict(boxstyle='larrow', fc=\"w\", ec=\"k\"))\n#\nplt.draw()\nplt.show()"
      ],
      "metadata": {
        "collapsed": false
      },
      "execution_count": null,
      "cell_type": "code"
    }
  ]
}