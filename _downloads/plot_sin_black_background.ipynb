{
  "nbformat": 4,
  "metadata": {
    "kernelspec": {
      "language": "python",
      "name": "python3",
      "display_name": "Python 3"
    },
    "language_info": {
      "version": "3.5.2",
      "codemirror_mode": {
        "version": 3,
        "name": "ipython"
      },
      "file_extension": ".py",
      "name": "python",
      "pygments_lexer": "ipython3",
      "mimetype": "text/x-python",
      "nbconvert_exporter": "python"
    }
  },
  "nbformat_minor": 0,
  "cells": [
    {
      "outputs": [],
      "source": [
        "%matplotlib inline"
      ],
      "metadata": {
        "collapsed": false
      },
      "execution_count": null,
      "cell_type": "code"
    },
    {
      "source": [
        "\nPlotting simple sin function on a black background\n==================================================\n\nA simple example of the plot of a sin function on a black background\n\n\n"
      ],
      "metadata": {},
      "cell_type": "markdown"
    },
    {
      "outputs": [],
      "source": [
        "# Code source: Lo\u00efc Est\u00e8ve\n# License: BSD 3 clause\n\nimport numpy as np\nimport matplotlib.pyplot as plt\n\nbg_color = 'black'\nfg_color = 'white'\n\nfig = plt.figure(facecolor=bg_color, edgecolor=fg_color)\naxes = plt.axes((0.1, 0.1, 0.8, 0.8), axisbg=bg_color)\naxes.xaxis.set_tick_params(color=fg_color, labelcolor=fg_color)\naxes.yaxis.set_tick_params(color=fg_color, labelcolor=fg_color)\nfor spine in axes.spines.values():\n    spine.set_color(fg_color)\n\nx = np.linspace(0, 2 * np.pi, 100)\ny = np.sin(x)\n\nplt.plot(x, y, 'cyan', axes=axes)\nplt.xlabel('$x$', color=fg_color)\nplt.ylabel('$\\sin(x)$', color=fg_color)\nplt.show()"
      ],
      "metadata": {
        "collapsed": false
      },
      "execution_count": null,
      "cell_type": "code"
    }
  ]
}