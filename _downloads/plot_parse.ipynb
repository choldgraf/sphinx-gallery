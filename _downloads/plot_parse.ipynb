{
  "nbformat": 4,
  "metadata": {
    "kernelspec": {
      "language": "python",
      "name": "python3",
      "display_name": "Python 3"
    },
    "language_info": {
      "version": "3.5.2",
      "codemirror_mode": {
        "version": 3,
        "name": "ipython"
      },
      "file_extension": ".py",
      "name": "python",
      "pygments_lexer": "ipython3",
      "mimetype": "text/x-python",
      "nbconvert_exporter": "python"
    }
  },
  "nbformat_minor": 0,
  "cells": [
    {
      "outputs": [],
      "source": [
        "%matplotlib inline"
      ],
      "metadata": {
        "collapsed": false
      },
      "execution_count": null,
      "cell_type": "code"
    },
    {
      "source": [
        "\nThe Header Docstring\n====================\n\nWhen writting latex in a Python string keep in mind to escape the backslashes\nor use a raw docstring\n\n\\begin{align}\\sin (x)\\end{align}\n\nClosing this string quotes on same line\n"
      ],
      "metadata": {},
      "cell_type": "markdown"
    },
    {
      "source": [
        "Direct first comment\nwith second line\n\n"
      ],
      "metadata": {},
      "cell_type": "markdown"
    },
    {
      "outputs": [],
      "source": [
        "import numpy as np"
      ],
      "metadata": {
        "collapsed": false
      },
      "execution_count": null,
      "cell_type": "code"
    },
    {
      "outputs": [],
      "source": [
        "A = 1\n\nimport matplotlib.pyplot as plt"
      ],
      "metadata": {
        "collapsed": false
      },
      "execution_count": null,
      "cell_type": "code"
    },
    {
      "source": [
        "There is no need to always alternate between code and comment blocks\nNow there is free repetition of both\n\n"
      ],
      "metadata": {},
      "cell_type": "markdown"
    },
    {
      "source": [
        "And a single line of hashes can split your blocks\n\n"
      ],
      "metadata": {},
      "cell_type": "markdown"
    },
    {
      "source": [
        "Latex in the comments does not need to be escaped\n\n\\begin{align}\\sin\\end{align}\n\n"
      ],
      "metadata": {},
      "cell_type": "markdown"
    },
    {
      "outputs": [],
      "source": [
        "def dummy():\n    \"\"\"This should not be part of a 'text' block'\"\"\"\n\n    ######################################\n    # Comment inside code to remain here\n    pass\n\n# this should not be part of a 'text' block"
      ],
      "metadata": {
        "collapsed": false
      },
      "execution_count": null,
      "cell_type": "code"
    },
    {
      "source": [
        "####################################################################\n\nMaking a line cut in sphinx\n\n"
      ],
      "metadata": {},
      "cell_type": "markdown"
    },
    {
      "source": [
        "<div class=\"alert alert-danger\"><h4>Warning</h4><p>The next kind of comments are not supported and become to hard to escape\n    so just don't code like this.</p></div>\n\n.. code-block:: python\n\n    def dummy2():\n        \"\"\"Function docstring\"\"\"\n    ####################################\n    # This comment inside python indentation\n    # breaks the block structure and is not\n    # supported\n        dummy2\n\n\n"
      ],
      "metadata": {},
      "cell_type": "markdown"
    },
    {
      "outputs": [],
      "source": [
        "\"\"\"Free strings are not supported they remain part of the code\"\"\""
      ],
      "metadata": {
        "collapsed": false
      },
      "execution_count": null,
      "cell_type": "code"
    },
    {
      "source": [
        "New lines can be included in you block comments and the parser\nis capable of retaining this significant whitespace to work with sphinx\n\nSo the reStructuredText headers survive\n^^^^^^^^^^^^^^^^^^^^^^^^^^^^^^^^^^^^^^^\n\n"
      ],
      "metadata": {},
      "cell_type": "markdown"
    },
    {
      "outputs": [],
      "source": [
        "print('one')"
      ],
      "metadata": {
        "collapsed": false
      },
      "execution_count": null,
      "cell_type": "code"
    },
    {
      "source": [
        "Code block separators\n##############################################################################\n Surrounding a comment line with lines of # like a block spliter also\n works and creates a new header for that comment block\n too. Nevertheless to get rich text formatting we advise to use\n RestructuredText syntax in the comment blocks.\n\n"
      ],
      "metadata": {},
      "cell_type": "markdown"
    },
    {
      "outputs": [],
      "source": [
        "print('two')"
      ],
      "metadata": {
        "collapsed": false
      },
      "execution_count": null,
      "cell_type": "code"
    },
    {
      "outputs": [],
      "source": [
        "B = 1"
      ],
      "metadata": {
        "collapsed": false
      },
      "execution_count": null,
      "cell_type": "code"
    },
    {
      "source": [
        "End comments\n\nThat's all folks !\n\n.. literalinclude:: plot_parse.py\n\n\n\n"
      ],
      "metadata": {},
      "cell_type": "markdown"
    }
  ]
}