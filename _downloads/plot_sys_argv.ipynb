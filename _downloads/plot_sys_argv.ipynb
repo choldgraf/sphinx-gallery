{
  "nbformat": 4,
  "metadata": {
    "kernelspec": {
      "language": "python",
      "display_name": "Python 3",
      "name": "python3"
    },
    "language_info": {
      "nbconvert_exporter": "python",
      "version": "3.5.4",
      "pygments_lexer": "ipython3",
      "file_extension": ".py",
      "mimetype": "text/x-python",
      "codemirror_mode": {
        "version": 3,
        "name": "ipython"
      },
      "name": "python"
    }
  },
  "cells": [
    {
      "source": [
        "%matplotlib inline"
      ],
      "metadata": {
        "collapsed": false
      },
      "execution_count": null,
      "outputs": [],
      "cell_type": "code"
    },
    {
      "source": [
        "\nUsing ``sys.argv`` in examples\n==============================\n\nNote that your example will be run by sphinx-gallery without arguments.\n\n"
      ],
      "metadata": {},
      "cell_type": "markdown"
    },
    {
      "source": [
        "import argparse\nimport sys\n\nparser = argparse.ArgumentParser(description='Toy parser')\nparser.add_argument('--option', default='default',\n                    help='a dummy optional argument')\nprint('sys.argv:', sys.argv)\nprint('parsed args:', parser.parse_args())"
      ],
      "metadata": {
        "collapsed": false
      },
      "execution_count": null,
      "outputs": [],
      "cell_type": "code"
    }
  ],
  "nbformat_minor": 0
}