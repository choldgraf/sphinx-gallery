{
  "nbformat": 4,
  "metadata": {
    "kernelspec": {
      "language": "python",
      "name": "python3",
      "display_name": "Python 3"
    },
    "language_info": {
      "version": "3.5.2",
      "codemirror_mode": {
        "version": 3,
        "name": "ipython"
      },
      "file_extension": ".py",
      "name": "python",
      "pygments_lexer": "ipython3",
      "mimetype": "text/x-python",
      "nbconvert_exporter": "python"
    }
  },
  "nbformat_minor": 0,
  "cells": [
    {
      "outputs": [],
      "source": [
        "%matplotlib inline"
      ],
      "metadata": {
        "collapsed": false
      },
      "execution_count": null,
      "cell_type": "code"
    },
    {
      "source": [
        "\nColormaps alter your perception\n===============================\n\nHere I plot the function\n\n\\begin{align}f(x, y) = \\sin(x) + \\cos(y)\\end{align}\n\nwith different colormaps.\n\n\n"
      ],
      "metadata": {},
      "cell_type": "markdown"
    },
    {
      "outputs": [],
      "source": [
        "import numpy as np\nimport matplotlib.pyplot as plt\n\nx = np.linspace(-np.pi, np.pi, 300)\nxx, yy = np.meshgrid(x, x)\nz = np.cos(xx) + np.cos(yy)\n\nplt.figure()\nplt.imshow(z)\n\nplt.figure()\nplt.imshow(z, cmap=plt.cm.get_cmap('hot'))\n\nplt.figure()\nplt.imshow(z, cmap=plt.cm.get_cmap('Spectral'),\n           interpolation='none')\n\n# Not needed for the Gallery.\n# Only for direct execution\nplt.show()"
      ],
      "metadata": {
        "collapsed": false
      },
      "execution_count": null,
      "cell_type": "code"
    },
    {
      "source": [
        "You can define blocks in your source code\nwith interleaving prose.\n\n\n"
      ],
      "metadata": {},
      "cell_type": "markdown"
    },
    {
      "outputs": [],
      "source": [
        "print(\"This writes to stdout and will be\",\n      \" displayed in the HTML file\")"
      ],
      "metadata": {
        "collapsed": false
      },
      "execution_count": null,
      "cell_type": "code"
    }
  ]
}